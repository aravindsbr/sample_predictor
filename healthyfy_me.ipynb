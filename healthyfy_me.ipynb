{
 "cells": [
  {
   "cell_type": "code",
   "execution_count": 37,
   "metadata": {},
   "outputs": [],
   "source": [
    "import matplotlib.pyplot as plt\n",
    "import pandas as pd"
   ]
  },
  {
   "cell_type": "code",
   "execution_count": 38,
   "metadata": {},
   "outputs": [],
   "source": [
    "datasets = pd.read_csv('C://Users/praveen.ram.kannan/Desktop/WFH/asset/sample AI projects/ai-healthy-me/resources/sample.csv')"
   ]
  },
  {
   "cell_type": "code",
   "execution_count": 39,
   "metadata": {},
   "outputs": [],
   "source": [
    "X = datasets.iloc[:, :-1].values\n",
    "Y = datasets.iloc[:, -1].values"
   ]
  },
  {
   "cell_type": "code",
   "execution_count": 40,
   "metadata": {},
   "outputs": [],
   "source": [
    "from sklearn.model_selection import train_test_split\n",
    "X_Train, X_Test, Y_Train, Y_Test = train_test_split(X, Y, test_size = 1/3, random_state = 0)"
   ]
  },
  {
   "cell_type": "code",
   "execution_count": 41,
   "metadata": {},
   "outputs": [
    {
     "data": {
      "text/plain": [
       "LinearRegression()"
      ]
     },
     "execution_count": 41,
     "metadata": {},
     "output_type": "execute_result"
    }
   ],
   "source": [
    "from sklearn.linear_model import LinearRegression\n",
    "regressor = LinearRegression()\n",
    "regressor.fit(X_Train, Y_Train)"
   ]
  },
  {
   "cell_type": "code",
   "execution_count": 42,
   "metadata": {},
   "outputs": [
    {
     "name": "stdout",
     "output_type": "stream",
     "text": [
      "[75.  70.  60.  75.  75.  85.  80.  65.  70.  75.  70.  90.  70.  90.\n",
      " 65.  85.  70.  65.  75.  75.  85.  65.  65.  85.  90.  70.  70.  65.\n",
      " 80.  90.  80.  75.  65.  85.  70.  75.  80.  75.  80.  85.  75.  65.\n",
      " 65.  85.  65.  60.  60.  85.  85.  80.  75.  80.  65.  90.  70.  65.\n",
      " 65.  80.  85.  65.  80.  80.  75.  75.  75.  85.  75.  60.  75.  90.\n",
      " 80.  75.  90.  80.  67.5 75.  65.  65.  75.  65.  60.  85.  75.  85.\n",
      " 75.  65.  70.  90.  80.  65.  75.  70.  75.  65.  75.  70.  80.  75.\n",
      " 65.  75. ]\n"
     ]
    }
   ],
   "source": [
    "print(Y_Test)"
   ]
  },
  {
   "cell_type": "code",
   "execution_count": 43,
   "metadata": {},
   "outputs": [],
   "source": [
    "Y_Pred = regressor.predict(X_Test)"
   ]
  },
  {
   "cell_type": "code",
   "execution_count": 44,
   "metadata": {},
   "outputs": [
    {
     "name": "stdout",
     "output_type": "stream",
     "text": [
      "[80.41348445 66.73492809 64.73923197 71.71087346 79.54890037 82.88886713\n",
      " 74.04577967 68.8945005  69.38653526 80.39429121 71.06757868 85.49513072\n",
      " 65.91570657 84.3006225  69.57367382 76.12577401 71.51111429 68.06450634\n",
      " 72.7529423  77.43839018 84.6908164  64.90666301 64.41184057 84.2743082\n",
      " 87.6725291  67.87925518 71.38376181 64.09277509 82.35987142 88.52764077\n",
      " 81.71683442 73.67298419 69.94873108 84.05277274 70.29659045 73.2827771\n",
      " 78.27521475 70.97545057 77.88019219 83.78161929 76.55373732 69.93971174\n",
      " 69.16319335 83.34736307 67.64578668 66.96961082 61.12682031 83.0989765\n",
      " 76.21528841 73.46509791 72.19357568 74.89882329 61.78251359 85.00322195\n",
      " 71.46818172 68.78362641 69.08131198 77.49486263 82.93050527 65.85599334\n",
      " 84.28236019 82.79593408 73.63615572 72.97641246 72.21037745 82.20268485\n",
      " 77.84352185 65.57646737 73.57687232 85.03338086 78.58240259 71.95987268\n",
      " 86.49964638 78.99270974 72.77087753 80.12604562 65.51618596 68.92934466\n",
      " 75.94248001 70.58909547 59.96287019 81.27908977 73.30876079 83.70148542\n",
      " 80.0033842  69.73147586 73.35532524 86.14628447 85.06693057 70.73639653\n",
      " 77.24442489 66.75000931 75.09052462 69.23650263 53.83181545 68.26729581\n",
      " 76.30061096 80.34829419 60.94692223 78.82108803]\n"
     ]
    }
   ],
   "source": [
    "print (Y_Pred)"
   ]
  },
  {
   "cell_type": "code",
   "execution_count": 45,
   "metadata": {},
   "outputs": [],
   "source": [
    "from sklearn.model_selection import train_test_split\n",
    "X_Train, X_Test, Y_Train, Y_Test = train_test_split(X, Y, test_size = 1/3, random_state = 0)"
   ]
  },
  {
   "cell_type": "code",
   "execution_count": 46,
   "metadata": {},
   "outputs": [],
   "source": [
    "from sklearn.preprocessing import PolynomialFeatures \n",
    "  \n",
    "poly1 = PolynomialFeatures(degree = 2) \n",
    "X_poly = poly1.fit_transform(X_Train) \n",
    "poly = LinearRegression()\n",
    "poly.fit(X_poly, Y_Train) \n",
    "\n",
    "Y_Pred = poly.predict(poly1.fit_transform(X_Test))"
   ]
  },
  {
   "cell_type": "code",
   "execution_count": 47,
   "metadata": {},
   "outputs": [
    {
     "name": "stdout",
     "output_type": "stream",
     "text": [
      "[75.  70.  60.  75.  75.  85.  80.  65.  70.  75.  70.  90.  70.  90.\n",
      " 65.  85.  70.  65.  75.  75.  85.  65.  65.  85.  90.  70.  70.  65.\n",
      " 80.  90.  80.  75.  65.  85.  70.  75.  80.  75.  80.  85.  75.  65.\n",
      " 65.  85.  65.  60.  60.  85.  85.  80.  75.  80.  65.  90.  70.  65.\n",
      " 65.  80.  85.  65.  80.  80.  75.  75.  75.  85.  75.  60.  75.  90.\n",
      " 80.  75.  90.  80.  67.5 75.  65.  65.  75.  65.  60.  85.  75.  85.\n",
      " 75.  65.  70.  90.  80.  65.  75.  70.  75.  65.  75.  70.  80.  75.\n",
      " 65.  75. ]\n"
     ]
    }
   ],
   "source": [
    "print(Y_Test)"
   ]
  },
  {
   "cell_type": "code",
   "execution_count": 48,
   "metadata": {},
   "outputs": [
    {
     "name": "stdout",
     "output_type": "stream",
     "text": [
      "[78.89147213 74.55427733 62.53264216 71.54087425 79.83636185 84.5380198\n",
      " 74.79178329 66.74321643 68.75437622 79.11235983 71.39694734 87.94181092\n",
      " 65.6911675  83.71468757 68.50008488 77.22540854 71.28532879 67.09410069\n",
      " 72.6995763  76.4560372  84.42321    64.34667293 63.38246504 83.6468809\n",
      " 90.17057123 66.50230681 71.55198726 64.50715975 83.34053531 90.98727188\n",
      " 80.11785411 74.96632529 67.95878474 84.93522849 70.16120152 73.84910987\n",
      " 77.93475107 71.09089405 76.6985055  83.5610691  76.36107491 67.97235668\n",
      " 67.00564298 82.8701344  65.99695121 65.12598605 60.34252632 84.47292768\n",
      " 80.72300175 72.99971958 71.42777255 75.69217486 66.57063444 85.88397896\n",
      " 70.9875511  67.84991972 67.51704132 81.42542368 82.78848741 64.67896674\n",
      " 83.67525639 82.62744041 74.2013265  74.06393581 76.00420452 83.0120824\n",
      " 76.70939583 63.52193114 73.52273787 87.34526756 78.8676734  73.40574381\n",
      " 90.52713242 78.09128421 72.4111322  78.58638154 63.44762558 67.71639972\n",
      " 74.26870538 69.09924906 60.17968537 81.75874323 76.51338771 83.3218486\n",
      " 78.79274233 67.7190343  73.03648643 87.07807166 84.9087964  69.06239819\n",
      " 80.09021834 67.64183039 73.82404329 67.28185731 92.73132611 67.60329386\n",
      " 77.79034172 78.52345255 67.09692793 77.10975259]\n"
     ]
    }
   ],
   "source": [
    "print(Y_Pred)"
   ]
  },
  {
   "cell_type": "code",
   "execution_count": null,
   "metadata": {},
   "outputs": [],
   "source": []
  }
 ],
 "metadata": {
  "kernelspec": {
   "display_name": "Python 3",
   "language": "python",
   "name": "python3"
  },
  "language_info": {
   "codemirror_mode": {
    "name": "ipython",
    "version": 3
   },
   "file_extension": ".py",
   "mimetype": "text/x-python",
   "name": "python",
   "nbconvert_exporter": "python",
   "pygments_lexer": "ipython3",
   "version": "3.7.7"
  }
 },
 "nbformat": 4,
 "nbformat_minor": 4
}

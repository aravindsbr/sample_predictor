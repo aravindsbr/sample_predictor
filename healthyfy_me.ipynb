{
 "cells": [
  {
   "cell_type": "code",
   "execution_count": 144,
   "metadata": {},
   "outputs": [],
   "source": [
    "import matplotlib.pyplot as plt\n",
    "import pandas as pd"
   ]
  },
  {
   "cell_type": "code",
   "execution_count": 145,
   "metadata": {},
   "outputs": [],
   "source": [
    "datasets = pd.read_csv('C:/Users/praveen.ram.kannan/Desktop/data/healthyfy-me-updated.csv')"
   ]
  },
  {
   "cell_type": "code",
   "execution_count": 146,
   "metadata": {},
   "outputs": [],
   "source": [
    "X = datasets.iloc[:, 5:12].values\n",
    "Y = datasets.iloc[:, -1].values"
   ]
  },
  {
   "cell_type": "code",
   "execution_count": 147,
   "metadata": {},
   "outputs": [],
   "source": [
    "from sklearn.model_selection import train_test_split\n",
    "X_Train, X_Test, Y_Train, Y_Test = train_test_split(X, Y, test_size = 1/3, random_state = 0)"
   ]
  },
  {
   "cell_type": "code",
   "execution_count": 148,
   "metadata": {},
   "outputs": [
    {
     "data": {
      "text/plain": [
       "LinearRegression()"
      ]
     },
     "execution_count": 148,
     "metadata": {},
     "output_type": "execute_result"
    }
   ],
   "source": [
    "from sklearn.linear_model import LinearRegression\n",
    "regressor = LinearRegression()\n",
    "regressor.fit(X_Train, Y_Train)"
   ]
  },
  {
   "cell_type": "code",
   "execution_count": 149,
   "metadata": {},
   "outputs": [
    {
     "name": "stdout",
     "output_type": "stream",
     "text": [
      "[72.8 77.3 59.2 76.9 76.6 83.2 91.2 68.  61.4 76.3 82.3 91.3 77.7 86.2\n",
      " 77.7 82.5 90.4 80.5 87.9 81.5 86.6 67.3 77.9 72.7 74.8 84.2 81.8 69.7\n",
      " 78.4 84.7 88.2 80.8 86.3 77.2 77.2 76.7 79.7 80.2 76.4 83.8 71.6 81.6\n",
      " 82.7 86.3 77.7 69.8 83.1 93.1 76.  91.  86.9 75.  78.8 88.9 80.4 75.5\n",
      " 77.7 79.4 71.8 76.9 81.8 82.7 86.3 90.5 81.6 73.3 81.3 75.9 90.4 85.5\n",
      " 81.9 84.6 80.6 89.6 79.1 84.1 77.1 76.9 88.9 68.  74.5 87.3 84.2 84.6\n",
      " 72.7 81.6 77.1 82.4 89.4 68.  77.1 78.4 75.3 75.5 77.  72.2 91.9 79.1\n",
      " 86.3 86.3]\n"
     ]
    }
   ],
   "source": [
    "print(Y_Test)"
   ]
  },
  {
   "cell_type": "code",
   "execution_count": 150,
   "metadata": {},
   "outputs": [],
   "source": [
    "Y_Pred = regressor.predict(X_Test)"
   ]
  },
  {
   "cell_type": "code",
   "execution_count": 151,
   "metadata": {},
   "outputs": [
    {
     "name": "stdout",
     "output_type": "stream",
     "text": [
      "[79.31838561 79.88956623 63.76653062 79.39299144 76.2034766  84.46658116\n",
      " 90.55320838 67.14035069 65.08356534 78.53324524 86.84769298 89.16127868\n",
      " 75.28211823 82.47668987 77.69859816 82.85745895 85.68234384 77.68325904\n",
      " 92.10530965 79.6515383  83.28207132 69.39626957 73.55410838 73.65401248\n",
      " 85.01285919 81.03875148 81.55271305 74.14830949 80.82496974 85.52559714\n",
      " 84.48491058 77.00660668 85.77321516 85.67786877 78.21155436 75.06329242\n",
      " 80.28795538 81.30562771 76.53147806 84.21359016 72.16293276 86.29335196\n",
      " 82.93833251 89.45081135 80.15819891 72.23628712 78.75863721 86.35883061\n",
      " 72.00369739 88.39901095 87.10596342 76.73512521 74.58357107 83.67281224\n",
      " 79.51043637 76.80818843 78.54330548 77.69512312 76.18818496 76.24098675\n",
      " 83.43931783 84.6862858  81.42488375 86.02456517 84.57335349 75.83212736\n",
      " 80.24027883 78.65450852 90.54746347 82.91135396 79.79975949 82.44635037\n",
      " 79.53397637 85.04882548 84.34179758 82.78588218 76.52748989 79.53812856\n",
      " 84.47442938 70.38958962 71.47298001 85.04836272 80.62821386 84.02356209\n",
      " 73.37551093 85.59293932 78.06862693 84.08135899 86.491808   71.30621564\n",
      " 78.11646717 76.03909564 73.17321039 77.31758863 63.36443857 70.41518585\n",
      " 89.48572521 81.46740207 78.01460438 82.73709458]\n"
     ]
    }
   ],
   "source": [
    "print (Y_Pred)"
   ]
  },
  {
   "cell_type": "code",
   "execution_count": 152,
   "metadata": {},
   "outputs": [],
   "source": [
    "from sklearn.model_selection import train_test_split\n",
    "X_Train, X_Test, Y_Train, Y_Test = train_test_split(X, Y, test_size = 1/3, random_state = 0)"
   ]
  },
  {
   "cell_type": "code",
   "execution_count": 153,
   "metadata": {},
   "outputs": [],
   "source": [
    "from sklearn.preprocessing import PolynomialFeatures \n",
    "  \n",
    "poly1 = PolynomialFeatures(degree = 2) \n",
    "X_poly = poly1.fit_transform(X_Train) \n",
    "poly = LinearRegression()\n",
    "poly.fit(X_poly, Y_Train) \n",
    "\n",
    "Y_Pred = poly.predict(poly1.fit_transform(X_Test))"
   ]
  },
  {
   "cell_type": "code",
   "execution_count": 154,
   "metadata": {},
   "outputs": [
    {
     "name": "stdout",
     "output_type": "stream",
     "text": [
      "[72.8 77.3 59.2 76.9 76.6 83.2 91.2 68.  61.4 76.3 82.3 91.3 77.7 86.2\n",
      " 77.7 82.5 90.4 80.5 87.9 81.5 86.6 67.3 77.9 72.7 74.8 84.2 81.8 69.7\n",
      " 78.4 84.7 88.2 80.8 86.3 77.2 77.2 76.7 79.7 80.2 76.4 83.8 71.6 81.6\n",
      " 82.7 86.3 77.7 69.8 83.1 93.1 76.  91.  86.9 75.  78.8 88.9 80.4 75.5\n",
      " 77.7 79.4 71.8 76.9 81.8 82.7 86.3 90.5 81.6 73.3 81.3 75.9 90.4 85.5\n",
      " 81.9 84.6 80.6 89.6 79.1 84.1 77.1 76.9 88.9 68.  74.5 87.3 84.2 84.6\n",
      " 72.7 81.6 77.1 82.4 89.4 68.  77.1 78.4 75.3 75.5 77.  72.2 91.9 79.1\n",
      " 86.3 86.3]\n"
     ]
    }
   ],
   "source": [
    "print(Y_Test)"
   ]
  },
  {
   "cell_type": "code",
   "execution_count": 155,
   "metadata": {},
   "outputs": [
    {
     "name": "stdout",
     "output_type": "stream",
     "text": [
      "[ 78.42421722  64.23715591  63.27096176  81.78296471  75.88713264\n",
      "  85.91353989  87.04574203  64.4641819   72.99557686  77.70215988\n",
      "  90.80635452  92.41115379  74.76679802  84.91111565  75.75695801\n",
      "  85.78792572  87.93881416  76.55940247  95.07918739  85.04927063\n",
      "  85.95934868  70.13672066  75.6641674   69.70377731  84.8284626\n",
      "  79.29364395  81.97687149  71.4359417   74.4708252   91.83057404\n",
      "  85.93569183  73.72212791  86.02754402  80.34597206  80.82700157\n",
      "  74.90552711  85.85518265  75.17584229  76.95068169  86.4013176\n",
      "  61.88676071  87.48444176  83.20653343  92.97993279  82.83062363\n",
      "  74.1700573   81.927351    89.96285439  79.97056007  89.31077194\n",
      "  86.11951637  71.73696899  80.59095764  83.57588768  77.88966179\n",
      "  75.22673798  77.79092789  80.26389694  71.80968475  75.5995369\n",
      "  80.26846695  80.59615517  86.61082458  88.99767685  79.8167572\n",
      "  73.96328545  76.22012711  82.04986191  91.99254036  80.73777771\n",
      "  81.19178009  82.35032654  77.36561203  85.40468788  82.13829422\n",
      "  81.71121216  80.80548286  76.87255478  83.87591553  68.92382622\n",
      "  83.24872971  82.06986809  81.13365364  80.27926064  74.1818161\n",
      "  86.48051262  75.34563828  78.00292397  81.50990105  68.29005623\n",
      "  76.92673874  79.63339996  81.46568298  77.63541985 106.02160835\n",
      "  74.1132412   96.34727097  80.76759529  77.7022953   81.5476017 ]\n"
     ]
    }
   ],
   "source": [
    "print(Y_Pred)"
   ]
  },
  {
   "cell_type": "code",
   "execution_count": 156,
   "metadata": {},
   "outputs": [],
   "source": [
    "from sklearn.preprocessing import StandardScaler as ss\n",
    "\n",
    "sc = ss()\n",
    "X_Train = sc.fit_transform(X_Train)\n",
    "X_Test = sc.transform(X_Test)\n",
    "\n",
    "# from sklearn.preprocessing import StandardScaler\n",
    "# sc_X = StandardScaler()\n",
    "# sc_y = StandardScaler()\n",
    "# X = sc_X.fit_transform(X)\n",
    "# Y = sc_y.fit_transform(Y)"
   ]
  },
  {
   "cell_type": "code",
   "execution_count": 157,
   "metadata": {},
   "outputs": [],
   "source": [
    "from sklearn.svm import SVR"
   ]
  },
  {
   "cell_type": "code",
   "execution_count": 158,
   "metadata": {},
   "outputs": [
    {
     "data": {
      "text/plain": [
       "SVR()"
      ]
     },
     "execution_count": 158,
     "metadata": {},
     "output_type": "execute_result"
    }
   ],
   "source": [
    "regressor = SVR(kernel='rbf')\n",
    "regressor.fit(X_Train,Y_Train)"
   ]
  },
  {
   "cell_type": "code",
   "execution_count": 159,
   "metadata": {},
   "outputs": [
    {
     "name": "stdout",
     "output_type": "stream",
     "text": [
      "[79.5753879  78.20555579 74.21798692 78.99725663 77.35220377 85.98812064\n",
      " 86.44678551 73.03937809 73.10687702 79.01188342 84.51754872 86.63459135\n",
      " 76.47282635 83.2630647  77.25372513 82.009816   86.68327961 77.80535935\n",
      " 87.31034562 79.26862525 84.40201099 75.66240363 76.94584357 74.92446032\n",
      " 81.96597829 80.29671672 82.0665543  75.77911162 80.92279796 83.68223301\n",
      " 84.53852749 78.12963086 86.48592288 82.92776932 79.16313583 77.79102179\n",
      " 80.36325018 81.42518641 77.89404389 84.65441246 76.78012855 85.26385294\n",
      " 82.87891056 87.10537496 80.0756808  75.5990777  80.22466232 85.54941653\n",
      " 75.92442661 87.37733917 86.29916035 77.1573428  79.04445879 83.68952531\n",
      " 81.69835815 77.04931154 78.4600775  79.73900205 76.84072856 76.73369066\n",
      " 83.62794329 82.86023342 81.2081317  85.62367874 81.23457569 75.25162871\n",
      " 80.35457154 79.024123   88.27301949 82.29692585 80.82498687 80.89898162\n",
      " 80.93232296 84.5640009  83.26277056 81.8753761  77.01889425 79.95733016\n",
      " 82.62577658 72.23209945 77.01965818 80.79316329 83.16420839 82.96006513\n",
      " 73.4374239  83.21583025 78.77829154 82.90030933 84.98137457 72.77932061\n",
      " 78.81443862 77.91642849 76.83515156 77.68471468 79.13520891 74.51572192\n",
      " 86.61561134 81.58382257 80.53003291 83.02397729]\n"
     ]
    }
   ],
   "source": [
    "y_pred = regressor.predict(X_Test)\n",
    "print(y_pred)"
   ]
  },
  {
   "cell_type": "code",
   "execution_count": 160,
   "metadata": {},
   "outputs": [],
   "source": [
    "import pandas as pd\n",
    "import numpy as np\n",
    "import matplotlib.pyplot as plt\n",
    "from scipy.signal import savgol_filter\n",
    "from sklearn.decomposition import PCA\n",
    "from sklearn.preprocessing import StandardScaler\n",
    "from sklearn import linear_model\n",
    "from sklearn.model_selection import cross_val_predict\n",
    "from sklearn.metrics import mean_squared_error, r2_score"
   ]
  },
  {
   "cell_type": "code",
   "execution_count": 165,
   "metadata": {},
   "outputs": [],
   "source": [
    "pca = PCA()\n",
    "# Preprocessing (1): first derivative\n",
    "d1X = savgol_filter(X_Train, 5, polyorder = 2, deriv=1)\n",
    "# Preprocess (2) Standardize features by removing the mean and scaling to unit variance\n",
    "Xstd = StandardScaler().fit_transform(d1X[:,:])"
   ]
  },
  {
   "cell_type": "code",
   "execution_count": 166,
   "metadata": {},
   "outputs": [],
   "source": [
    "Xstd = StandardScaler().fit_transform(d1X[:,:])\n",
    "# Run PCA producing the reduced variable Xreg and select the first pc components\n",
    "Xreg = pca.fit_transform(Xstd)[:,:]\n",
    "\n",
    "# d1X = savgol_filter(X_Test, 5, polyorder = 2, deriv=1)\n",
    "# Xstd = StandardScaler().fit_transform(d1X[:,:])\n",
    "# # Run PCA producing the reduced variable Xreg and select the first pc components\n",
    "# Xreg = pca.fit_transform(Xstd)[:,:]"
   ]
  },
  {
   "cell_type": "code",
   "execution_count": 167,
   "metadata": {},
   "outputs": [],
   "source": [
    "regr = linear_model.LinearRegression()\n",
    "# Fit\n",
    "regr.fit(Xreg, Y_Train)\n",
    "# Calibration\n",
    "y_c = regr.predict(X_Test)\n",
    "# Cross-validation\n",
    "# y_cv = cross_val_predict(regr, Xreg, Y_Train, cv=10)\n",
    "# # Calculate scores for calibration and cross-validation\n",
    "# score_c = r2_score(Y_Train, y_c)\n",
    "# score_cv = r2_score(Y_Train, y_cv)\n",
    "# # Calculate mean square error for calibration and cross validation\n",
    "# mse_c = mean_squared_error(Y_Train, y_c)\n",
    "# mse_cv = mean_squared_error(Y_Train, y_cv)"
   ]
  },
  {
   "cell_type": "code",
   "execution_count": 168,
   "metadata": {},
   "outputs": [
    {
     "name": "stdout",
     "output_type": "stream",
     "text": [
      "[80.31077075 78.0830223  71.55594765 76.72158271 83.34574484 77.45903725\n",
      " 81.19158048 85.84376139 77.53011539 77.83477368 83.8912854  77.54612473\n",
      " 87.17296945 79.78017886 84.95273093 79.99544293 80.70458535 88.8003661\n",
      " 81.4638007  76.29871674 79.08669417 79.66763015 81.4856548  83.19640991\n",
      " 82.88210221 75.24643348 83.01658228 73.78096514 82.11756518 77.81890711\n",
      " 83.77483203 86.9834565  80.32619524 84.56212903 81.22919423 79.16029204\n",
      " 69.26348141 79.96001311 74.69548948 81.37574441 81.03101087 83.92577944\n",
      " 85.14177518 83.32689106 82.83844807 77.60848934 70.77898075 80.84124038\n",
      " 79.95030511 78.37872034 80.01020877 73.79760836 76.56931968 87.28309135\n",
      " 76.81725672 88.30269354 81.99249675 79.37479189 84.58404355 80.64924836\n",
      " 84.77138871 86.38726329 68.70501357 85.92927054 86.7066529  81.07214734\n",
      " 79.99189748 74.59363599 79.0011034  85.04300774 78.15481861 89.0476696\n",
      " 75.78898573 77.13214838 80.57501612 85.3504816  86.68676062 80.79876674\n",
      " 75.2724262  84.83182786 74.29969551 76.32927301 73.28672097 86.7854627\n",
      " 81.03951707 86.2677445  88.27126869 84.46862397 79.59011897 84.96861125\n",
      " 87.73705487 78.50002668 77.26576794 88.41625278 73.38150703 81.76695554\n",
      " 83.91573649 83.17161824 80.48928366 80.63428424]\n"
     ]
    }
   ],
   "source": [
    "print(y_c)"
   ]
  },
  {
   "cell_type": "code",
   "execution_count": 169,
   "metadata": {},
   "outputs": [],
   "source": [
    "from sklearn.cross_decomposition import PLSRegression\n",
    "from sklearn.metrics import mean_squared_error, r2_score\n",
    "from sklearn.model_selection import cross_val_predict"
   ]
  },
  {
   "cell_type": "code",
   "execution_count": 170,
   "metadata": {},
   "outputs": [],
   "source": [
    "pls = PLSRegression(n_components=5)"
   ]
  },
  {
   "cell_type": "code",
   "execution_count": 171,
   "metadata": {},
   "outputs": [
    {
     "data": {
      "text/plain": [
       "PLSRegression(n_components=5)"
      ]
     },
     "execution_count": 171,
     "metadata": {},
     "output_type": "execute_result"
    }
   ],
   "source": [
    "# Fitting data\n",
    "pls.fit(X_Train, Y_Train)\n"
   ]
  },
  {
   "cell_type": "code",
   "execution_count": 172,
   "metadata": {},
   "outputs": [],
   "source": [
    "y_c = pls.predict(X_Test)"
   ]
  },
  {
   "cell_type": "code",
   "execution_count": 173,
   "metadata": {},
   "outputs": [
    {
     "name": "stdout",
     "output_type": "stream",
     "text": [
      "[[79.31849243]\n",
      " [79.88954751]\n",
      " [63.76664514]\n",
      " [79.39325843]\n",
      " [76.20346118]\n",
      " [84.46649422]\n",
      " [90.55342108]\n",
      " [67.14040039]\n",
      " [65.08369494]\n",
      " [78.53321354]\n",
      " [86.84748081]\n",
      " [89.16155584]\n",
      " [75.28191552]\n",
      " [82.47697048]\n",
      " [77.69866524]\n",
      " [82.8579551 ]\n",
      " [85.68218749]\n",
      " [77.68309401]\n",
      " [92.10507195]\n",
      " [79.65171843]\n",
      " [83.28234235]\n",
      " [69.39633279]\n",
      " [73.55424947]\n",
      " [73.65451073]\n",
      " [85.01335078]\n",
      " [81.03903681]\n",
      " [81.55259427]\n",
      " [74.14825143]\n",
      " [80.82516977]\n",
      " [85.52623173]\n",
      " [84.48475605]\n",
      " [77.00689279]\n",
      " [85.77301528]\n",
      " [85.67796335]\n",
      " [78.21172722]\n",
      " [75.06334333]\n",
      " [80.28816168]\n",
      " [81.30589425]\n",
      " [76.53169248]\n",
      " [84.21382888]\n",
      " [72.16244171]\n",
      " [86.29308322]\n",
      " [82.93814465]\n",
      " [89.45086616]\n",
      " [80.15781317]\n",
      " [72.23667328]\n",
      " [78.75810472]\n",
      " [86.3587218 ]\n",
      " [72.00373119]\n",
      " [88.39915784]\n",
      " [87.10597841]\n",
      " [76.73513772]\n",
      " [74.58316549]\n",
      " [83.67304658]\n",
      " [79.51042084]\n",
      " [76.80813788]\n",
      " [78.5433478 ]\n",
      " [77.69506579]\n",
      " [76.18847671]\n",
      " [76.24078739]\n",
      " [83.43958625]\n",
      " [84.68632594]\n",
      " [81.42486522]\n",
      " [86.02456064]\n",
      " [84.57281939]\n",
      " [75.83252101]\n",
      " [80.23977689]\n",
      " [78.65446368]\n",
      " [90.54743698]\n",
      " [82.91144277]\n",
      " [79.79974622]\n",
      " [82.44610384]\n",
      " [79.53442866]\n",
      " [85.04838985]\n",
      " [84.34188293]\n",
      " [82.78559819]\n",
      " [76.52695815]\n",
      " [79.5381486 ]\n",
      " [84.4738827 ]\n",
      " [70.38988417]\n",
      " [71.47274971]\n",
      " [85.04872031]\n",
      " [80.62836037]\n",
      " [84.02371678]\n",
      " [73.37574307]\n",
      " [85.59258322]\n",
      " [78.06892747]\n",
      " [84.08191245]\n",
      " [86.49221246]\n",
      " [71.30640915]\n",
      " [78.11645855]\n",
      " [76.03916934]\n",
      " [73.17292162]\n",
      " [77.31747615]\n",
      " [63.36381796]\n",
      " [70.41530392]\n",
      " [89.48599018]\n",
      " [81.46721712]\n",
      " [78.01395376]\n",
      " [82.73679362]]\n"
     ]
    }
   ],
   "source": [
    "print(y_c)"
   ]
  },
  {
   "cell_type": "code",
   "execution_count": null,
   "metadata": {},
   "outputs": [],
   "source": []
  }
 ],
 "metadata": {
  "kernelspec": {
   "display_name": "Python 3",
   "language": "python",
   "name": "python3"
  },
  "language_info": {
   "codemirror_mode": {
    "name": "ipython",
    "version": 3
   },
   "file_extension": ".py",
   "mimetype": "text/x-python",
   "name": "python",
   "nbconvert_exporter": "python",
   "pygments_lexer": "ipython3",
   "version": "3.7.7"
  }
 },
 "nbformat": 4,
 "nbformat_minor": 4
}

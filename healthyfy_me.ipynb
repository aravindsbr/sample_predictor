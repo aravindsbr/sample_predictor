{
 "cells": [
  {
   "cell_type": "code",
   "execution_count": 1,
   "metadata": {},
   "outputs": [],
   "source": [
    "import matplotlib.pyplot as plt\n",
    "import pandas as pd"
   ]
  },
  {
   "cell_type": "code",
   "execution_count": 2,
   "metadata": {},
   "outputs": [],
   "source": [
    "datasets = pd.read_csv('D:/sample_predictor/sample-data-set.csv')"
   ]
  },
  {
   "cell_type": "code",
   "execution_count": 3,
   "metadata": {},
   "outputs": [],
   "source": [
    "X = datasets.iloc[:, :-1].values\n",
    "Y = datasets.iloc[:, -1].values"
   ]
  },
  {
   "cell_type": "code",
   "execution_count": 4,
   "metadata": {},
   "outputs": [],
   "source": [
    "from sklearn.model_selection import train_test_split\n",
    "X_Train, X_Test, Y_Train, Y_Test = train_test_split(X, Y, test_size = 1/3, random_state = 0)"
   ]
  },
  {
   "cell_type": "code",
   "execution_count": 5,
   "metadata": {},
   "outputs": [
    {
     "data": {
      "text/plain": [
       "LinearRegression()"
      ]
     },
     "execution_count": 5,
     "metadata": {},
     "output_type": "execute_result"
    }
   ],
   "source": [
    "from sklearn.linear_model import LinearRegression\n",
    "regressor = LinearRegression()\n",
    "regressor.fit(X_Train, Y_Train)"
   ]
  },
  {
   "cell_type": "code",
   "execution_count": 6,
   "metadata": {},
   "outputs": [
    {
     "name": "stdout",
     "output_type": "stream",
     "text": [
      "[75.  70.  60.  75.  75.  85.  80.  65.  70.  75.  70.  90.  70.  90.\n",
      " 65.  85.  70.  65.  75.  75.  85.  65.  65.  85.  90.  70.  70.  65.\n",
      " 80.  90.  80.  75.  65.  85.  70.  75.  80.  75.  80.  85.  75.  65.\n",
      " 65.  85.  65.  60.  60.  85.  85.  80.  75.  80.  65.  90.  70.  65.\n",
      " 65.  80.  85.  65.  80.  80.  75.  75.  75.  85.  75.  60.  75.  90.\n",
      " 80.  75.  90.  80.  67.5 75.  65.  65.  75.  65.  60.  85.  75.  85.\n",
      " 75.  65.  70.  90.  80.  65.  75.  70.  75.  65.  75.  70.  80.  75.\n",
      " 65.  75. ]\n"
     ]
    }
   ],
   "source": [
    "print(Y_Test)"
   ]
  },
  {
   "cell_type": "code",
   "execution_count": 7,
   "metadata": {},
   "outputs": [],
   "source": [
    "Y_Pred = regressor.predict(X_Test)"
   ]
  },
  {
   "cell_type": "code",
   "execution_count": 8,
   "metadata": {},
   "outputs": [
    {
     "name": "stdout",
     "output_type": "stream",
     "text": [
      "[80.41348445 66.73492809 64.73923197 71.71087346 79.54890037 82.88886713\n",
      " 74.04577967 68.8945005  69.38653526 80.39429121 71.06757868 85.49513072\n",
      " 65.91570657 84.3006225  69.57367382 76.12577401 71.51111429 68.06450634\n",
      " 72.7529423  77.43839018 84.6908164  64.90666301 64.41184057 84.2743082\n",
      " 87.6725291  67.87925518 71.38376181 64.09277509 82.35987142 88.52764077\n",
      " 81.71683442 73.67298419 69.94873108 84.05277274 70.29659045 73.2827771\n",
      " 78.27521475 70.97545057 77.88019219 83.78161929 76.55373732 69.93971174\n",
      " 69.16319335 83.34736307 67.64578668 66.96961082 61.12682031 83.0989765\n",
      " 76.21528841 73.46509791 72.19357568 74.89882329 61.78251359 85.00322195\n",
      " 71.46818172 68.78362641 69.08131198 77.49486263 82.93050527 65.85599334\n",
      " 84.28236019 82.79593408 73.63615572 72.97641246 72.21037745 82.20268485\n",
      " 77.84352185 65.57646737 73.57687232 85.03338086 78.58240259 71.95987268\n",
      " 86.49964638 78.99270974 72.77087753 80.12604562 65.51618596 68.92934466\n",
      " 75.94248001 70.58909547 59.96287019 81.27908977 73.30876079 83.70148542\n",
      " 80.0033842  69.73147586 73.35532524 86.14628447 85.06693057 70.73639653\n",
      " 77.24442489 66.75000931 75.09052462 69.23650263 53.83181545 68.26729581\n",
      " 76.30061096 80.34829419 60.94692223 78.82108803]\n"
     ]
    }
   ],
   "source": [
    "print (Y_Pred)"
   ]
  },
  {
   "cell_type": "code",
   "execution_count": 9,
   "metadata": {},
   "outputs": [],
   "source": [
    "from sklearn.model_selection import train_test_split\n",
    "X_Train, X_Test, Y_Train, Y_Test = train_test_split(X, Y, test_size = 1/3, random_state = 0)"
   ]
  },
  {
   "cell_type": "code",
   "execution_count": 10,
   "metadata": {},
   "outputs": [],
   "source": [
    "from sklearn.preprocessing import PolynomialFeatures \n",
    "  \n",
    "poly1 = PolynomialFeatures(degree = 2) \n",
    "X_poly = poly1.fit_transform(X_Train) \n",
    "poly = LinearRegression()\n",
    "poly.fit(X_poly, Y_Train) \n",
    "\n",
    "Y_Pred = poly.predict(poly1.fit_transform(X_Test))"
   ]
  },
  {
   "cell_type": "code",
   "execution_count": 11,
   "metadata": {},
   "outputs": [
    {
     "name": "stdout",
     "output_type": "stream",
     "text": [
      "[75.  70.  60.  75.  75.  85.  80.  65.  70.  75.  70.  90.  70.  90.\n",
      " 65.  85.  70.  65.  75.  75.  85.  65.  65.  85.  90.  70.  70.  65.\n",
      " 80.  90.  80.  75.  65.  85.  70.  75.  80.  75.  80.  85.  75.  65.\n",
      " 65.  85.  65.  60.  60.  85.  85.  80.  75.  80.  65.  90.  70.  65.\n",
      " 65.  80.  85.  65.  80.  80.  75.  75.  75.  85.  75.  60.  75.  90.\n",
      " 80.  75.  90.  80.  67.5 75.  65.  65.  75.  65.  60.  85.  75.  85.\n",
      " 75.  65.  70.  90.  80.  65.  75.  70.  75.  65.  75.  70.  80.  75.\n",
      " 65.  75. ]\n"
     ]
    }
   ],
   "source": [
    "print(Y_Test)"
   ]
  },
  {
   "cell_type": "code",
   "execution_count": 12,
   "metadata": {},
   "outputs": [
    {
     "name": "stdout",
     "output_type": "stream",
     "text": [
      "[78.89147213 74.55427733 62.53264216 71.54087425 79.83636185 84.5380198\n",
      " 74.79178329 66.74321643 68.75437622 79.11235983 71.39694734 87.94181092\n",
      " 65.6911675  83.71468757 68.50008488 77.22540854 71.28532879 67.09410069\n",
      " 72.6995763  76.4560372  84.42321    64.34667293 63.38246504 83.6468809\n",
      " 90.17057123 66.50230681 71.55198726 64.50715975 83.34053531 90.98727188\n",
      " 80.11785411 74.96632529 67.95878474 84.93522849 70.16120152 73.84910987\n",
      " 77.93475107 71.09089405 76.6985055  83.5610691  76.36107491 67.97235668\n",
      " 67.00564298 82.8701344  65.99695121 65.12598605 60.34252632 84.47292768\n",
      " 80.72300175 72.99971958 71.42777255 75.69217486 66.57063444 85.88397896\n",
      " 70.9875511  67.84991972 67.51704132 81.42542368 82.78848741 64.67896674\n",
      " 83.67525639 82.62744041 74.2013265  74.06393581 76.00420452 83.0120824\n",
      " 76.70939583 63.52193114 73.52273787 87.34526756 78.8676734  73.40574381\n",
      " 90.52713242 78.09128421 72.4111322  78.58638154 63.44762558 67.71639972\n",
      " 74.26870538 69.09924906 60.17968537 81.75874322 76.51338771 83.3218486\n",
      " 78.79274233 67.7190343  73.03648643 87.07807166 84.9087964  69.06239819\n",
      " 80.09021834 67.64183039 73.82404329 67.28185731 92.73132611 67.60329386\n",
      " 77.79034172 78.52345255 67.09692793 77.10975259]\n"
     ]
    }
   ],
   "source": [
    "print(Y_Pred)"
   ]
  },
  {
   "cell_type": "code",
   "execution_count": 13,
   "metadata": {},
   "outputs": [],
   "source": [
    "from sklearn.preprocessing import StandardScaler as ss\n",
    "\n",
    "sc = ss()\n",
    "X_Train = sc.fit_transform(X_Train)\n",
    "X_Test = sc.transform(X_Test)\n",
    "\n",
    "# from sklearn.preprocessing import StandardScaler\n",
    "# sc_X = StandardScaler()\n",
    "# sc_y = StandardScaler()\n",
    "# X = sc_X.fit_transform(X)\n",
    "# Y = sc_y.fit_transform(Y)"
   ]
  },
  {
   "cell_type": "code",
   "execution_count": 14,
   "metadata": {},
   "outputs": [],
   "source": [
    "from sklearn.svm import SVR"
   ]
  },
  {
   "cell_type": "code",
   "execution_count": 15,
   "metadata": {},
   "outputs": [
    {
     "data": {
      "text/plain": [
       "SVR()"
      ]
     },
     "execution_count": 15,
     "metadata": {},
     "output_type": "execute_result"
    }
   ],
   "source": [
    "regressor = SVR(kernel='rbf')\n",
    "regressor.fit(X_Train,Y_Train)"
   ]
  },
  {
   "cell_type": "code",
   "execution_count": 16,
   "metadata": {},
   "outputs": [
    {
     "name": "stdout",
     "output_type": "stream",
     "text": [
      "[79.20469215 72.75968514 66.46644284 72.13168491 78.73977628 80.59278019\n",
      " 74.44277405 66.25882711 69.35918059 79.85699481 70.69019068 81.3673098\n",
      " 66.72496142 83.90119604 68.76858251 76.65786994 71.02979318 67.69908001\n",
      " 72.83448616 74.87644893 84.32886154 69.44566623 68.24269957 84.27991972\n",
      " 82.55512542 69.45384126 71.8299404  68.92043842 79.14251117 83.40871541\n",
      " 81.32893536 74.21994638 67.22968354 83.76075378 70.42207012 73.43963792\n",
      " 75.78684554 70.89326422 75.06734988 82.35379263 74.86614114 67.26734036\n",
      " 66.22128064 81.60342799 67.12547115 68.68549498 68.94293353 81.70482615\n",
      " 77.03628554 73.56967288 71.89706245 74.40573511 70.53891113 83.21808267\n",
      " 71.14120415 68.29979407 67.35879665 77.399846   81.03119244 65.37700281\n",
      " 84.21394592 83.06141227 73.20758929 73.50138231 72.67076197 81.30973774\n",
      " 76.00164305 67.28078964 73.80120282 83.26055607 76.68829522 73.09178789\n",
      " 82.84519711 77.00852481 72.858949   79.29902151 65.99194732 67.07560681\n",
      " 74.27000109 68.66660974 67.58030988 76.63821286 75.1325676  83.9130901\n",
      " 78.32296263 67.11874718 73.22753167 82.27872025 84.21480063 68.79610895\n",
      " 77.5243117  69.15558598 73.95810637 66.37193395 74.19435891 67.88820099\n",
      " 76.91726359 79.28312819 71.35068073 77.27916117]\n"
     ]
    }
   ],
   "source": [
    "y_pred = regressor.predict(X_Test)\n",
    "print(y_pred)"
   ]
  },
  {
   "cell_type": "code",
   "execution_count": 17,
   "metadata": {},
   "outputs": [],
   "source": [
    "import pandas as pd\n",
    "import numpy as np\n",
    "import matplotlib.pyplot as plt\n",
    "from scipy.signal import savgol_filter\n",
    "from sklearn.decomposition import PCA\n",
    "from sklearn.preprocessing import StandardScaler\n",
    "from sklearn import linear_model\n",
    "from sklearn.model_selection import cross_val_predict\n",
    "from sklearn.metrics import mean_squared_error, r2_score"
   ]
  },
  {
   "cell_type": "code",
   "execution_count": 92,
   "metadata": {},
   "outputs": [],
   "source": [
    "pca = PCA()\n",
    "# Preprocessing (1): first derivative\n",
    "d1X = savgol_filter(X_Train, 3, polyorder = 2, deriv=1)\n",
    "# Preprocess (2) Standardize features by removing the mean and scaling to unit variance\n",
    "Xstd = StandardScaler().fit_transform(d1X[:,:])"
   ]
  },
  {
   "cell_type": "code",
   "execution_count": 93,
   "metadata": {},
   "outputs": [],
   "source": [
    "Xstd = StandardScaler().fit_transform(d1X[:,:])\n",
    "# Run PCA producing the reduced variable Xreg and select the first pc components\n",
    "Xreg = pca.fit_transform(Xstd)[:,:]\n",
    "\n",
    "# d1X = savgol_filter(X_Test, 5, polyorder = 2, deriv=1)\n",
    "# Xstd = StandardScaler().fit_transform(d1X[:,:])\n",
    "# # Run PCA producing the reduced variable Xreg and select the first pc components\n",
    "# Xreg = pca.fit_transform(Xstd)[:,:]"
   ]
  },
  {
   "cell_type": "code",
   "execution_count": 94,
   "metadata": {},
   "outputs": [],
   "source": [
    "regr = linear_model.LinearRegression()\n",
    "# Fit\n",
    "regr.fit(Xreg, Y_Train)\n",
    "# Calibration\n",
    "y_c = regr.predict(X_Test)\n",
    "# Cross-validation\n",
    "# y_cv = cross_val_predict(regr, Xreg, Y_Train, cv=10)\n",
    "# # Calculate scores for calibration and cross-validation\n",
    "# score_c = r2_score(Y_Train, y_c)\n",
    "# score_cv = r2_score(Y_Train, y_cv)\n",
    "# # Calculate mean square error for calibration and cross validation\n",
    "# mse_c = mean_squared_error(Y_Train, y_c)\n",
    "# mse_cv = mean_squared_error(Y_Train, y_cv)"
   ]
  },
  {
   "cell_type": "code",
   "execution_count": 95,
   "metadata": {},
   "outputs": [
    {
     "name": "stdout",
     "output_type": "stream",
     "text": [
      "[75.  70.  60.  75.  75.  85.  80.  65.  70.  75.  70.  90.  70.  90.\n",
      " 65.  85.  70.  65.  75.  75.  85.  65.  65.  85.  90.  70.  70.  65.\n",
      " 80.  90.  80.  75.  65.  85.  70.  75.  80.  75.  80.  85.  75.  65.\n",
      " 65.  85.  65.  60.  60.  85.  85.  80.  75.  80.  65.  90.  70.  65.\n",
      " 65.  80.  85.  65.  80.  80.  75.  75.  75.  85.  75.  60.  75.  90.\n",
      " 80.  75.  90.  80.  67.5 75.  65.  65.  75.  65.  60.  85.  75.  85.\n",
      " 75.  65.  70.  90.  80.  65.  75.  70.  75.  65.  75.  70.  80.  75.\n",
      " 65.  75. ]\n",
      "[76.54161071 91.29408651 66.88752717 75.04738872 75.71753205 75.34935366\n",
      " 80.30367286 72.57083064 73.27148026 72.87500086 79.6245263  83.43478753\n",
      " 81.00272807 78.35182497 75.55441674 77.6790075  76.14787245 73.99763345\n",
      " 71.10167819 70.92622753 78.38867095 62.07060804 72.49535529 77.49920147\n",
      " 75.61258904 72.31580655 69.75732395 73.70786942 82.85999458 80.37158247\n",
      " 75.58209342 78.94219388 75.45034179 70.85993528 81.61366497 74.94155174\n",
      " 64.69441603 82.81040217 69.55367412 78.81425253 66.35855006 75.72315902\n",
      " 74.7340599  80.46143986 68.78014596 69.85694134 60.76311047 69.74047787\n",
      " 75.14697274 75.78599899 74.23400668 77.66427657 76.69186696 80.07989071\n",
      " 71.94993407 74.97454346 75.86161746 76.65499961 80.78399418 79.1125947\n",
      " 77.45523603 73.11096143 71.19419748 77.28324079 71.29081955 75.32020595\n",
      " 68.80713132 66.53903517 72.60463542 69.92289106 80.22739513 67.31606314\n",
      " 70.82940761 73.81195662 73.00611747 73.59621839 72.90530608 79.81160716\n",
      " 72.66110069 78.31047738 64.49955645 65.44718754 74.42345086 75.04301041\n",
      " 78.05690172 73.77898793 79.05845792 80.91913276 78.40036971 73.60347185\n",
      " 73.22904216 77.79311979 72.20544693 76.76376638 71.41045698 79.85473659\n",
      " 78.58566872 75.01673774 74.59163303 74.00558892]\n"
     ]
    }
   ],
   "source": [
    "print(y_c)"
   ]
  },
  {
   "cell_type": "code",
   "execution_count": 96,
   "metadata": {},
   "outputs": [],
   "source": [
    "from sklearn.cross_decomposition import PLSRegression\n",
    "from sklearn.metrics import mean_squared_error, r2_score\n",
    "from sklearn.model_selection import cross_val_predict"
   ]
  },
  {
   "cell_type": "code",
   "execution_count": 97,
   "metadata": {},
   "outputs": [],
   "source": [
    "pls = PLSRegression(n_components=5)"
   ]
  },
  {
   "cell_type": "code",
   "execution_count": 98,
   "metadata": {},
   "outputs": [
    {
     "data": {
      "text/plain": [
       "PLSRegression(n_components=5)"
      ]
     },
     "execution_count": 98,
     "metadata": {},
     "output_type": "execute_result"
    }
   ],
   "source": [
    "# Fitting data\n",
    "pls.fit(X_Train, Y_Train)\n"
   ]
  },
  {
   "cell_type": "code",
   "execution_count": 99,
   "metadata": {},
   "outputs": [],
   "source": [
    "y_c = pls.predict(X_Test)"
   ]
  },
  {
   "cell_type": "code",
   "execution_count": 106,
   "metadata": {},
   "outputs": [
    {
     "name": "stdout",
     "output_type": "stream",
     "text": [
      "[[80.41348445]\n",
      " [66.73492809]\n",
      " [64.73923197]\n",
      " [71.71087346]\n",
      " [79.54890037]\n",
      " [82.88886713]\n",
      " [74.04577967]\n",
      " [68.8945005 ]\n",
      " [69.38653526]\n",
      " [80.39429121]\n",
      " [71.06757868]\n",
      " [85.49513072]\n",
      " [65.91570657]\n",
      " [84.3006225 ]\n",
      " [69.57367382]\n",
      " [76.12577401]\n",
      " [71.51111429]\n",
      " [68.06450634]\n",
      " [72.7529423 ]\n",
      " [77.43839018]\n",
      " [84.6908164 ]\n",
      " [64.90666301]\n",
      " [64.41184057]\n",
      " [84.2743082 ]\n",
      " [87.6725291 ]\n",
      " [67.87925518]\n",
      " [71.38376181]\n",
      " [64.09277509]\n",
      " [82.35987142]\n",
      " [88.52764077]\n",
      " [81.71683442]\n",
      " [73.67298419]\n",
      " [69.94873108]\n",
      " [84.05277274]\n",
      " [70.29659045]\n",
      " [73.2827771 ]\n",
      " [78.27521475]\n",
      " [70.97545057]\n",
      " [77.88019219]\n",
      " [83.78161929]\n",
      " [76.55373732]\n",
      " [69.93971174]\n",
      " [69.16319335]\n",
      " [83.34736307]\n",
      " [67.64578668]\n",
      " [66.96961082]\n",
      " [61.12682031]\n",
      " [83.0989765 ]\n",
      " [76.21528841]\n",
      " [73.46509791]\n",
      " [72.19357568]\n",
      " [74.89882329]\n",
      " [61.78251359]\n",
      " [85.00322195]\n",
      " [71.46818172]\n",
      " [68.78362641]\n",
      " [69.08131198]\n",
      " [77.49486263]\n",
      " [82.93050527]\n",
      " [65.85599334]\n",
      " [84.28236019]\n",
      " [82.79593408]\n",
      " [73.63615572]\n",
      " [72.97641246]\n",
      " [72.21037745]\n",
      " [82.20268485]\n",
      " [77.84352185]\n",
      " [65.57646737]\n",
      " [73.57687232]\n",
      " [85.03338086]\n",
      " [78.58240259]\n",
      " [71.95987268]\n",
      " [86.49964638]\n",
      " [78.99270974]\n",
      " [72.77087753]\n",
      " [80.12604562]\n",
      " [65.51618596]\n",
      " [68.92934466]\n",
      " [75.94248001]\n",
      " [70.58909547]\n",
      " [59.96287019]\n",
      " [81.27908977]\n",
      " [73.30876079]\n",
      " [83.70148542]\n",
      " [80.0033842 ]\n",
      " [69.73147586]\n",
      " [73.35532524]\n",
      " [86.14628447]\n",
      " [85.06693057]\n",
      " [70.73639653]\n",
      " [77.24442489]\n",
      " [66.75000931]\n",
      " [75.09052462]\n",
      " [69.23650263]\n",
      " [53.83181545]\n",
      " [68.26729581]\n",
      " [76.30061096]\n",
      " [80.34829419]\n",
      " [60.94692223]\n",
      " [78.82108803]]\n"
     ]
    }
   ],
   "source": [
    "print(y_c)"
   ]
  },
  {
   "cell_type": "code",
   "execution_count": null,
   "metadata": {},
   "outputs": [],
   "source": []
  },
  {
   "cell_type": "code",
   "execution_count": null,
   "metadata": {},
   "outputs": [],
   "source": []
  },
  {
   "cell_type": "code",
   "execution_count": null,
   "metadata": {},
   "outputs": [],
   "source": []
  }
 ],
 "metadata": {
  "kernelspec": {
   "display_name": "Python 3",
   "language": "python",
   "name": "python3"
  },
  "language_info": {
   "codemirror_mode": {
    "name": "ipython",
    "version": 3
   },
   "file_extension": ".py",
   "mimetype": "text/x-python",
   "name": "python",
   "nbconvert_exporter": "python",
   "pygments_lexer": "ipython3",
   "version": "3.7.6"
  }
 },
 "nbformat": 4,
 "nbformat_minor": 4
}
